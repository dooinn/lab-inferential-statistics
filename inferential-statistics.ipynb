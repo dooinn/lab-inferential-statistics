{
 "cells": [
  {
   "cell_type": "markdown",
   "id": "66922f77",
   "metadata": {},
   "source": [
    "# Lab | Inferential statistics\n",
    "## Instructions\n",
    "\n",
    "1. It is assumed that the mean systolic blood pressure is μ = 120 mm Hg. In the Honolulu Heart Study, a sample of n = 100 people had an average systolic blood pressure of 130.1 mm Hg with a standard deviation of 21.21 mm Hg. Is the group significantly different (with respect to systolic blood pressure!) from the regular population?\n",
    "\n",
    "    - Set up the hypothesis test.\n",
    "    - Write down all the steps followed for setting up the test.\n",
    "    - Calculate the test statistic by hand and also code it in Python. It should be 4.76190. We will take a look at how to make decisions based on this calculated value.\n",
    "\n",
    "2. If you finished the previous question, please go through the code for principal_component_analysis_example provided in the files_for_lab folder ."
   ]
  },
  {
   "cell_type": "markdown",
   "id": "389bf89e",
   "metadata": {},
   "source": [
    "## Step1. Define null Hypotheiss\n",
    "This is our assumption about the population. It is defined by H0\n",
    "\n",
    "- H0: μ = 120\n",
    "\n",
    "## Step2. Define Alternative Hypothesis\n",
    "This means, what if our assumption is not true. It is defined by Ha \n",
    "\n",
    "- Ha : μ = 130.1\n",
    "\n",
    "## Step3. Determine if One-tailed or Two tailed.\n",
    "\n",
    "- Two-tailed Test\n",
    "\n",
    "- **Two-tailed test** is appropriate when you're interested in determining if there's a difference, but you don't have a specific direction in mind.(Example: Let's say you're testing a new drug and you want to know if it has any effect, either increasing or decreasing, on blood pressure. Your alternative hypothesis would be that the drug's effect is not equal to zero (i.e., it has some effect in either direction).\n",
    "\n",
    "\n",
    "- **One-tailed test** is appropriate when the direction of the effect is of interest.\n",
    "    - Right-tailed test: You believe the parameter is greater than the null hypothesis value.\n",
    "        - e.g. You believe that a new training program will increase worker productivity. So, you're only interested if the post-training productivity is higher than before.\n",
    "    - Left-tailed test: You believe the parameter is less than the null hypothesis value.\n",
    "        - e.g. You believe that a certain contaminant in water decreases the lifespan of fish. Thus, you're only looking for evidence of a decrease.\n",
    "        \n",
    "Since the research aims to verify if Honolulu Heart Study (i.e. the sample mean, Ha: μ = 130.1) is significantly different compared to the assumtion of mean ssytolic blood pressure (i.e. H0: μ = 120) rather that specific verify if the sample mean is either significantly greater than population mean, Given this lack of directionality, this test would be two-tailed.\n",
    "\n",
    "\n",
    "# Step4. Decide a test statistics\n",
    "\n",
    "- t-Test\n",
    "\n",
    "### Why?\n",
    "\n",
    "- The population variance/standard deviation is unknown.\n",
    "- The t-test is appropriate for situations where the population variance/standard deviation is unknown but the sample size is sufficiently large.\n",
    "\n",
    "Decide a test statistics based on the information available. \n",
    "\n",
    "Assuming data is normally distributed and number of observations are less then 30 and population variance is known (since population standard deviation is provided), we will use a t-test. \n",
    "\n",
    "This test is based on a \"t-distribution\" which is a normal distribution. If the population variance was not known or the testing sample is less then 30, we use a t-test. T test is based on students t distribution which is very similar to a standard normal distribution except that it is much flatter.\n",
    "\n",
    "\n",
    "# Step 5. Level of significance: \n",
    "\n",
    "- a = 0.05\n",
    "\n",
    "This defines the rejection region/critical region, it's the probability of making the wrong decision when the null hypothesis is true. Usually it is 0.05. It is defined by greek letter 'alpha'. In the medical field this would go down to 0.01.\n",
    "\n",
    "# Step 6: Calculate the test statistic based on the given information.\n",
    "![Sample Image](t-statistic.png)\n",
    "\n",
    "\n",
    "\n"
   ]
  },
  {
   "cell_type": "code",
   "execution_count": 4,
   "id": "637d710b",
   "metadata": {},
   "outputs": [
    {
     "name": "stdout",
     "output_type": "stream",
     "text": [
      "4.761904761904759\n"
     ]
    }
   ],
   "source": [
    "import math\n",
    "\n",
    "\n",
    "\n",
    "pop_mean = 120\n",
    "sample_mean = 130.1\n",
    "sample_n = 100\n",
    "sample_stdev = 21.21\n",
    "\n",
    "t_statistc = (sample_mean - pop_mean)/(sample_stdev/(math.sqrt(sample_n)))\n",
    "print(t_statistc)"
   ]
  },
  {
   "cell_type": "markdown",
   "id": "95bd12fd",
   "metadata": {},
   "source": [
    "# Step 7. Check the table to determine the critical value.\n",
    "\n",
    "According to table, two talied aploh 0.05 and df (degree of freedom) of 99 is 1.984"
   ]
  },
  {
   "cell_type": "code",
   "execution_count": 5,
   "id": "6a600b49",
   "metadata": {},
   "outputs": [
    {
     "name": "stdout",
     "output_type": "stream",
     "text": [
      "Critical value for two-tailed test at 95% confidence level: 1.9842169515086827\n"
     ]
    }
   ],
   "source": [
    "import scipy.stats as stats\n",
    "\n",
    "\n",
    "alpha = 0.05\n",
    "df = sample_n - 1\n",
    "\n",
    "\n",
    "critical_value = stats.t.ppf(1 - alpha/2, df)  \n",
    "\n",
    "print(\"Critical value for two-tailed test at 95% confidence level:\", critical_value)\n"
   ]
  },
  {
   "cell_type": "markdown",
   "id": "4230fe33",
   "metadata": {},
   "source": [
    "# Step 8: Make conclusions"
   ]
  },
  {
   "cell_type": "markdown",
   "id": "9040f03a",
   "metadata": {},
   "source": [
    "T-value is 4.7691, confidence level is 1.98421.\n",
    "\n",
    "As t-value falss in the criticial region, we can reject null hypothesis.\n"
   ]
  },
  {
   "cell_type": "code",
   "execution_count": null,
   "id": "89d7cfda",
   "metadata": {},
   "outputs": [],
   "source": []
  }
 ],
 "metadata": {
  "kernelspec": {
   "display_name": "Python 3",
   "language": "python",
   "name": "python3"
  },
  "language_info": {
   "codemirror_mode": {
    "name": "ipython",
    "version": 3
   },
   "file_extension": ".py",
   "mimetype": "text/x-python",
   "name": "python",
   "nbconvert_exporter": "python",
   "pygments_lexer": "ipython3",
   "version": "3.7.4"
  }
 },
 "nbformat": 4,
 "nbformat_minor": 5
}
